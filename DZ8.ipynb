{
 "cells": [
  {
   "cell_type": "code",
   "execution_count": 7,
   "id": "d1a79060",
   "metadata": {},
   "outputs": [],
   "source": [
    "import csv\n",
    "\n",
    "#функция чтения файла\n",
    "def read_csv(csv_file): \n",
    "    customers = []\n",
    "    with open(csv_file, 'r') as file:\n",
    "        csv_reader = csv.DictReader(file)\n",
    "        customers = [row for row in csv_reader]        \n",
    "    return customers\n",
    "\n",
    "\n",
    "#функция преобразования обозначения возраста\n",
    "def type_years(age): \n",
    "    age_mod = int(str(age)[-1])\n",
    "    year = 'лет'\n",
    "    if age_mod == 1:\n",
    "        year = 'год'\n",
    "    elif age_mod in (2, 3, 4):\n",
    "        year = 'года'\n",
    "    return f'{age} {year}'\n",
    "\n",
    "\n",
    "#функция записи данных \n",
    "def generate_description(customers):   \n",
    "    gender = 'мужского' if customers['sex'] == 'male' else 'женского'\n",
    "    done = 'совершил' if gender == 'мужского' else 'совершила'\n",
    "    description = f\"Пользователь {customers['name']}, {gender} пола, {type_years(customers['age'])}, {done} покупку на {customers['bill']} у.е. с {customers['device_type']} браузера {customers['browser']}. Регион, из которого совершалась покупка: {customers['region']}.\"\n",
    "    return description\n",
    "\n",
    "\n",
    " #итоговая функция записи данных из csv в txt\n",
    "def write_descriptions(customers, txt_file):  \n",
    "    customers = read_csv(csv_file)\n",
    "    with open(txt_file, 'w') as file:\n",
    "        for customer in customers:\n",
    "            description = generate_description(customer)\n",
    "            file.write(description + '\\n')\n",
    "\n",
    "            \n",
    "#названия файлов:            \n",
    "csv_file = 'web_clients_correct.csv'\n",
    "txt_file = 'descriptions.txt'\n",
    "\n",
    "\n",
    "#поехали!\n",
    "write_descriptions(csv_file, txt_file)"
   ]
  }
 ],
 "metadata": {
  "kernelspec": {
   "display_name": "Python 3 (ipykernel)",
   "language": "python",
   "name": "python3"
  },
  "language_info": {
   "codemirror_mode": {
    "name": "ipython",
    "version": 3
   },
   "file_extension": ".py",
   "mimetype": "text/x-python",
   "name": "python",
   "nbconvert_exporter": "python",
   "pygments_lexer": "ipython3",
   "version": "3.11.5"
  }
 },
 "nbformat": 4,
 "nbformat_minor": 5
}
